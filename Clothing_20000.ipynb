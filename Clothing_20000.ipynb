{
 "cells": [
  {
   "cell_type": "code",
   "execution_count": 7,
   "metadata": {},
   "outputs": [
    {
     "name": "stdout",
     "output_type": "stream",
     "text": [
      "20000\n",
      "[{'reviewerID': 'AF0EV0DAB9OUY', 'asin': 'B00CN3DTRS', 'reviewerName': 'precious \"Jane S\"', 'helpful': [3, 3], 'reviewText': 'Loved the bag, but the supplier leaves a lot to be desired.  This is a hard sided bag and needs to be shipped upright not on its side and stuffed into a too small box.  The bag was creased in the side and this will never come out.  Would definitely not recommend buying from this seller.', 'overall': 1.0, 'summary': 'PINSHANG HANDBAG', 'unixReviewTime': 1396569600, 'reviewTime': '04 4, 2014'}, {'reviewerID': 'A00165422B2GAUE3EL6Z0', 'asin': 'B008G51WHQ', 'reviewerName': 'Jaclyn Broderick', 'helpful': [0, 0], 'reviewText': 'I loved the look of it but I wish I would have got a larger size. It is still very cute though.', 'overall': 3.0, 'summary': 'OK', 'unixReviewTime': 1388620800, 'reviewTime': '01 2, 2014'}, {'reviewerID': 'A30YIR4OUR48S8', 'asin': 'B00AERKG94', 'reviewerName': 'Chuck W.', 'helpful': [0, 0], 'reviewText': \"I really like how these shirt stays keep my shirt tucked in and my socks pulled up.  That is one less thing to worry about and that is money well spent.  I was worried that the clips would let go and I'd get an elastic strap to the balls but they are really solid.  The only reason they are not perfect and only 4 stars is that the clamps that you use to adjust the length of the straps are really worthless.  At the slightest tension they just do not hold onto the band on two of the four straps.  Not sure if a defect or not but I still can use them just not to 100% of their abilities.  Still give them a shot they are really good to use of you are always messing around with an untucked shirt.\", 'overall': 4.0, 'summary': 'A great solution to an annoying problem, but not perfect.', 'unixReviewTime': 1395964800, 'reviewTime': '03 28, 2014'}, {'reviewerID': 'AHPIAD7T6WFL9', 'asin': 'B003S9X0JS', 'reviewerName': 'REBECC', 'helpful': [0, 1], 'reviewText': 'Not so form fittimg like the denim shirt, soft material, lovely color. Slim in the upper arm, okay in the boobie amd belly areas. Not to long, sleeves are  great worn long or cool rolled up. I wore mine with tank top. Carhartt must assume everyone has stick figure arms. Great price.', 'overall': 4.0, 'summary': 'Slim in the upper arm.', 'unixReviewTime': 1394323200, 'reviewTime': '03 9, 2014'}, {'reviewerID': 'A2Z99UFI919U35', 'asin': 'B009325DWG', 'reviewerName': 'Phitius', 'helpful': [0, 0], 'reviewText': \"I am in love with Patty Boutik tops, and this one is no exception.This top is made from a slightly heavier and less stretchy fabric than many of their other tops, but it still has that same perfect fit that skims the body, accentuating your curves, and disguising any imperfections.I wear a size 16/18 and the XL fits perfectly.  I'll be getting this in more colors.\", 'overall': 5.0, 'summary': 'PattyBoutik Simple Cowl Neck Short Sleeve Casual Blouse Top', 'unixReviewTime': 1400112000, 'reviewTime': '05 15, 2014'}]\n"
     ]
    }
   ],
   "source": [
    "import json\n",
    "import random\n",
    "\n",
    "import pandas as pd\n",
    "import numpy as np\n",
    "\n",
    "data = []\n",
    "file_name = 'Clothing_large.json'\n",
    "with open(file_name) as f:\n",
    "\tfor line in f:\n",
    "\t\treview = json.loads(line)\n",
    "\t\tyear = int(review['reviewTime'].split(' ')[-1])\n",
    "\t\tif year == 2014:\n",
    "\t\t\tdata.append(review)\n",
    "\n",
    "final_data = random.sample(data, 20000)\n",
    "\n",
    "print(len(final_data))\n",
    "\n",
    "print(final_data[0:5])\n",
    "\n",
    "with open('Clothing_1000.json', 'w') as f:\n",
    "\tfor review in final_data:\n",
    "\t\tf.write(json.dumps(review)+'\\n')"
   ]
  },
  {
   "cell_type": "code",
   "execution_count": null,
   "metadata": {},
   "outputs": [],
   "source": []
  },
  {
   "cell_type": "code",
   "execution_count": null,
   "metadata": {},
   "outputs": [],
   "source": []
  }
 ],
 "metadata": {
  "kernelspec": {
   "display_name": "Python 3",
   "language": "python",
   "name": "python3"
  },
  "language_info": {
   "codemirror_mode": {
    "name": "ipython",
    "version": 3
   },
   "file_extension": ".py",
   "mimetype": "text/x-python",
   "name": "python",
   "nbconvert_exporter": "python",
   "pygments_lexer": "ipython3",
   "version": "3.7.6"
  }
 },
 "nbformat": 4,
 "nbformat_minor": 4
}
