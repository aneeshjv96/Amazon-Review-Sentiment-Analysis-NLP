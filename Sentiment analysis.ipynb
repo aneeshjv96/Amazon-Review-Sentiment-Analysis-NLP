{
 "cells": [
  {
   "cell_type": "markdown",
   "metadata": {},
   "source": [
    "\n",
    "# Review data analysis and sentiment prediction\n",
    "\n",
    "Here we are using the data from the amazon reviews, downloaded from http://jmcauley.ucsd.edu/data/amazon/\n",
    "This site is having data from 1996 - 2014\n",
    "\n",
    "The file we are using as dataset is  *json*  type file. We have reviewerID, asin, reviewerName, overall, summary columns in data.\n",
    "\n",
    "We have used clothing data from the mentioned website, initially using *clothing_small.csv * - having 1000 rows and if data doesnt give us expected resuts we used *clothing_20000.csv * set which has 20000 rows.\n",
    "\n",
    "### Main logic in this code is that if the reviews in amazon are greater than or equal to 3 it is assumed as a postive review and machine is trained to pursue the same, any review less than 3 is assumed as a negative review\n",
    "\n",
    "steps followed for the classification:\n",
    "\n",
    "1. Classifiers defining, which will be used in the code. \n",
    "2. Data loading from json file, loading strings to arrays.\n",
    "3. Splitting data into train and test data using sklearn\n",
    "4. The data which we obtain will be in strings, they need to be vectorised, thus we vectorise the review data.\n",
    "5. After the initial data modelling has been done now trained the model using four classifying algos as follows:\n",
    "       \n",
    "        5.a. Support Vector Machine - Kernel = 'linear'\n",
    "        5.b. Decision Tree\n",
    "        5.c. K - Nearest Neighbours\n",
    "        5.d. Logistic Regressor Classification\n",
    "\n",
    "6. Verifying the model using r2 and f1 scores and with few examples\n",
    "7. Improving data by equally distributing the number of positive and negative reviews\n",
    "8. A development in the results were observed"
   ]
  },
  {
   "cell_type": "markdown",
   "metadata": {},
   "source": [
    "## Data Class\n"
   ]
  },
  {
   "cell_type": "code",
   "execution_count": 15,
   "metadata": {},
   "outputs": [],
   "source": [
    "## Data Class\n",
    "\n",
    "# Defining a class of sentiment and review before classifying the text in data file.\n",
    "\n",
    "class sentiment:\n",
    "    NEGATIVE = \"NEGATIVE\"\n",
    "    POSITIVE = \"POSITIVE\"\n",
    "\n",
    "import random\n",
    "\n",
    "class Review:\n",
    "    def __init__(self, text, score):\n",
    "        self.text = text\n",
    "        self.score = score\n",
    "        self.senti = self.get_senti()\n",
    "        \n",
    "    def get_senti(self):\n",
    "        if self.score < 3:\n",
    "            return sentiment.NEGATIVE\n",
    "        else:\n",
    "            return sentiment.POSITIVE    \n",
    "        # the function returns positive as sentiment if reviews are 3, 4, 5\n",
    "        \n",
    "\n",
    "\n",
    "# Review Container is a class defined to split even number of positive and negative reviews and define functions\n",
    "# to use for the loading of data into lists we need.\n",
    "\n",
    "class ReviewContainer:\n",
    "    def __init__(self, reviews):\n",
    "        self.reviews = reviews\n",
    "    \n",
    "    def get_text(self):\n",
    "        return [x.text for x in self.reviews]\n",
    "   \n",
    "    def get_sentiment(self):\n",
    "        return [x.senti for x in self.reviews]\n",
    "    \n",
    "    \n",
    "    def evenly_distribute(self):\n",
    "        negative = list(filter(lambda x: x.senti == sentiment.NEGATIVE, self.reviews))\n",
    "        positive = list(filter(lambda x: x.senti == sentiment.POSITIVE, self.reviews))\n",
    "        \n",
    "        positive_shrunk = positive[:len(negative)] # Shrinking  positive values to length of negative values\n",
    "        \n",
    "        \n",
    "        self.reviews = negative + positive_shrunk\n",
    "        \n",
    "        random.shuffle(self.reviews)"
   ]
  },
  {
   "cell_type": "markdown",
   "metadata": {},
   "source": [
    "## Loading data"
   ]
  },
  {
   "cell_type": "code",
   "execution_count": 16,
   "metadata": {
    "scrolled": true
   },
   "outputs": [
    {
     "data": {
      "text/plain": [
       "'this is a cloth cardigan and not the most comfortable for wrapping up in. hangs at sides and does not look as good buttoned up as it does open. fits a little tight in the arms. but everywhere else was good.'"
      ]
     },
     "execution_count": 16,
     "metadata": {},
     "output_type": "execute_result"
    }
   ],
   "source": [
    "# importing json library to read json file\n",
    "\n",
    "import json\n",
    "import pandas as pd\n",
    "import numpy as np\n",
    "from sklearn.metrics import confusion_matrix\n",
    "\n",
    "\n",
    "\n",
    "# data = 'Clothing_small.json'\n",
    "data = 'Clothing_20000.json' \n",
    "\n",
    "\n",
    "# After seeing that number of samples are less for negative sentiment we changed the data set using code below\n",
    "\n",
    "# import json\n",
    "# import random\n",
    "\n",
    "\n",
    "# data = []\n",
    "# file_name = 'Clothing_large.json'\n",
    "# with open(file_name) as f:\n",
    "#\t for line in f:\n",
    "#\t\t review = json.loads(line)\n",
    "#\t\t year = int(review['reviewTime'].split(' ')[-1])\n",
    "#\t\t if year == 2014:\n",
    "#\t\t\t data.append(review)\n",
    "\n",
    "# final_data = random.sample(data, 20000)\n",
    "\n",
    "# print(len(final_data))\n",
    "\n",
    "# print(final_data[0:5])\n",
    "\n",
    "# with open('Clothing_20000.json', 'w') as f:\n",
    "#\tfor review in final_data:\n",
    "#\t\tf.write(json.dumps(review)+'\\n')\n",
    "\n",
    "\n",
    "# above mentioned is used to re-extract data from larget clothing set at http://jmcauley.ucsd.edu/data/amazon/\n",
    "\n",
    "\n",
    "reviews = []\n",
    "\n",
    "# writing a function to form a list 'reviews' and storing data into the reviews\n",
    "\n",
    "with open(data) as f:  \n",
    "    for line in f:\n",
    "        review = json.loads(line)\n",
    "        \n",
    "        reviews.append(Review(review[\"reviewText\"],review[\"overall\"]))\n",
    "\n",
    "reviews[11].text"
   ]
  },
  {
   "cell_type": "markdown",
   "metadata": {},
   "source": [
    "## Preparing data"
   ]
  },
  {
   "cell_type": "code",
   "execution_count": 17,
   "metadata": {},
   "outputs": [
    {
     "name": "stdout",
     "output_type": "stream",
     "text": [
      "1637\n",
      "1637\n"
     ]
    }
   ],
   "source": [
    "# Creating two lists 'train', 'test' by splitting 'reviews' list using train_test_split model from sk-learn\n",
    "\n",
    "from sklearn.model_selection import train_test_split\n",
    "\n",
    "\n",
    "train, test = train_test_split(reviews, test_size = 0.22, random_state = 100)\n",
    "\n",
    "\n",
    "\n",
    "train_container = ReviewContainer(train)\n",
    "test_container = ReviewContainer(test)\n",
    "\n",
    "\n",
    "# we are training the system that reviews which had rating of 3 and\n",
    "# above are majorly positive and we train words in data set in order to get the sentiment of review\n",
    "\n",
    "train_container.evenly_distribute()\n",
    "\n",
    "x_train = train_container.get_text()\n",
    "y_train = train_container.get_sentiment()\n",
    "\n",
    "\n",
    "x_test = test_container.get_text()\n",
    "y_test =  test_container.get_sentiment()\n",
    "\n",
    "\n",
    "print(y_train.count(sentiment.POSITIVE))\n",
    "print(y_train.count(sentiment.NEGATIVE))\n",
    "\n",
    "# here the number of positive and negative reviews is that of same as we used the 'evenly_distribute()' function."
   ]
  },
  {
   "cell_type": "markdown",
   "metadata": {},
   "source": [
    "### Vectorisation - numeric notations for word count"
   ]
  },
  {
   "cell_type": "code",
   "execution_count": 18,
   "metadata": {},
   "outputs": [
    {
     "name": "stdout",
     "output_type": "stream",
     "text": [
      "This bag has everything I wanted in a bag...cross body, green, and lots of pockets for storage.  It is soft and holds up to everything I can put it through!  I love this bag!\n"
     ]
    }
   ],
   "source": [
    "print(x_test[1]) \n",
    "\n",
    "\n",
    "from sklearn.feature_extraction.text import CountVectorizer,TfidfVectorizer\n",
    "count_vect = TfidfVectorizer()\n",
    "\n",
    "# Converting strings of words in to a list of numbers and the number represents their repetetion in that sentence\n",
    "\n",
    "x_train_vector = count_vect.fit_transform(x_train)\n",
    "x_test_vector = count_vect.transform(x_test)\n",
    "\n",
    "\n",
    "\n",
    "## Classification\n",
    "\n",
    "# This statement seems like a positive statement as the person seems happy about the product\n",
    "# Ideally we should get sentiment as 'POSITIVE' if the model is classifying properly\n"
   ]
  },
  {
   "cell_type": "code",
   "execution_count": 19,
   "metadata": {},
   "outputs": [
    {
     "data": {
      "text/plain": [
       "array(['POSITIVE'], dtype='<U8')"
      ]
     },
     "execution_count": 19,
     "metadata": {},
     "output_type": "execute_result"
    }
   ],
   "source": [
    "from sklearn import svm\n",
    "\n",
    "clf_svm = svm.SVC(kernel = 'linear')\n",
    "\n",
    "clf_svm.fit(x_train_vector, y_train)\n",
    "\n",
    "\n",
    "clf_svm.predict(x_test_vector[1])\n",
    "\n",
    "# Support Vector Algo works as we got POSTIVE as sentiment for (x_test[1])\n"
   ]
  },
  {
   "cell_type": "markdown",
   "metadata": {},
   "source": [
    "## Classification\n",
    "\n",
    "\n",
    "\n",
    "\n",
    "### Linear SVM"
   ]
  },
  {
   "cell_type": "code",
   "execution_count": 20,
   "metadata": {},
   "outputs": [
    {
     "name": "stdout",
     "output_type": "stream",
     "text": [
      "The Injinji toe socks are my husband's and my favorite new socks.  We have bought them in all lengths including crew so my husband can wear them with his dress shoes.\n"
     ]
    }
   ],
   "source": [
    "print(x_test[5])"
   ]
  },
  {
   "cell_type": "code",
   "execution_count": 21,
   "metadata": {},
   "outputs": [
    {
     "name": "stdout",
     "output_type": "stream",
     "text": [
      "['POSITIVE']\n"
     ]
    }
   ],
   "source": [
    "from sklearn import svm\n",
    "\n",
    "clf_svm = svm.SVC(kernel = 'linear')\n",
    "\n",
    "clf_svm.fit(x_train_vector, y_train)\n",
    "# y_pred = clf_svm.predict(x_test)\n",
    "\n",
    "# print(confusion_matrix(y_test, y_pred))\n",
    "print(clf_svm.predict(x_test_vector[5]))"
   ]
  },
  {
   "cell_type": "markdown",
   "metadata": {},
   "source": [
    "### Decision Tree"
   ]
  },
  {
   "cell_type": "code",
   "execution_count": 22,
   "metadata": {},
   "outputs": [
    {
     "data": {
      "text/plain": [
       "array(['POSITIVE'], dtype='<U8')"
      ]
     },
     "execution_count": 22,
     "metadata": {},
     "output_type": "execute_result"
    }
   ],
   "source": [
    "from sklearn import tree \n",
    "\n",
    "clf_dt = tree.DecisionTreeClassifier()\n",
    "\n",
    "\n",
    "clf_dt.fit(x_train_vector, y_train)\n",
    "\n",
    "\n",
    "\n",
    "clf_dt.predict(x_test_vector[5])\n",
    "\n",
    "# Decision Tree algo works as we got POSTIVE as sentiment for (x_test[1])\n"
   ]
  },
  {
   "cell_type": "markdown",
   "metadata": {},
   "source": [
    "### K- Nearest Neighbours"
   ]
  },
  {
   "cell_type": "code",
   "execution_count": 23,
   "metadata": {},
   "outputs": [
    {
     "data": {
      "text/plain": [
       "array(['POSITIVE'], dtype='<U8')"
      ]
     },
     "execution_count": 23,
     "metadata": {},
     "output_type": "execute_result"
    }
   ],
   "source": [
    "from sklearn.neighbors import KNeighborsClassifier\n",
    "\n",
    "clf_knn =  KNeighborsClassifier()\n",
    "\n",
    "clf_knn.fit(x_train_vector, y_train)\n",
    "\n",
    "\n",
    "\n",
    "clf_knn.predict(x_test_vector[5])\n",
    "\n",
    "# K-Nearest Neighbours Algo works as we got POSTIVE as sentiment for (x_test[1])\n"
   ]
  },
  {
   "cell_type": "markdown",
   "metadata": {},
   "source": [
    "### Logistic Regression"
   ]
  },
  {
   "cell_type": "code",
   "execution_count": 24,
   "metadata": {},
   "outputs": [
    {
     "data": {
      "text/plain": [
       "array(['POSITIVE'], dtype='<U8')"
      ]
     },
     "execution_count": 24,
     "metadata": {},
     "output_type": "execute_result"
    }
   ],
   "source": [
    "### Logistic Regression\n",
    "from sklearn.linear_model import LogisticRegression\n",
    "\n",
    "clf_log =  LogisticRegression()\n",
    "\n",
    "clf_log.fit(x_train_vector, y_train)\n",
    "\n",
    "\n",
    "clf_log.predict(x_test_vector[5])\n",
    "\n",
    "# Logistic Regression classfier algo works as we got POSTIVE as sentiment for (x_test[1])"
   ]
  },
  {
   "cell_type": "markdown",
   "metadata": {},
   "source": [
    "## Evaluation"
   ]
  },
  {
   "cell_type": "code",
   "execution_count": 25,
   "metadata": {},
   "outputs": [
    {
     "name": "stdout",
     "output_type": "stream",
     "text": [
      "0.8231818181818182\n",
      "0.6765909090909091\n",
      "0.7661363636363636\n",
      "0.8243181818181818\n"
     ]
    }
   ],
   "source": [
    "print(clf_svm.score(x_test_vector, y_test))\n",
    "print(clf_dt.score(x_test_vector, y_test))\n",
    "print(clf_knn.score(x_test_vector, y_test))\n",
    "print(clf_log.score(x_test_vector, y_test))\n",
    "\n",
    "# Here the r2 values are determined for the models ideally a good score should be near to 1."
   ]
  },
  {
   "cell_type": "code",
   "execution_count": 26,
   "metadata": {},
   "outputs": [
    {
     "name": "stdout",
     "output_type": "stream",
     "text": [
      "Linear Support Vector Machine : [0.89307312 0.48950131]\n",
      "Decision Tree :  [0.79070452 0.28885557]\n",
      "K-Nearest Neighbour :  [0.85570046 0.38346315]\n",
      "Logistic Regression Classification [0.893658   0.49510124]\n"
     ]
    }
   ],
   "source": [
    "# Lets verify f1_score as well, where F1 = 2 * (precision * recall) / (precision + recall)\n",
    "\n",
    "from sklearn.metrics import f1_score\n",
    "\n",
    "print(\n",
    "    'Linear Support Vector Machine :',\n",
    "    f1_score(y_test, clf_svm.predict(x_test_vector), average = None, \n",
    "    labels = [sentiment.POSITIVE, sentiment.NEGATIVE])\n",
    "    )\n",
    "\n",
    "print(\n",
    "    'Decision Tree : ',\n",
    "    f1_score(y_test, clf_dt.predict(x_test_vector), average = None, \n",
    "    labels = [sentiment.POSITIVE, sentiment.NEGATIVE])\n",
    "    )\n",
    "\n",
    "print(\n",
    "    'K-Nearest Neighbour : ',\n",
    "    f1_score(y_test, clf_knn.predict(x_test_vector), average = None, \n",
    "    labels = [sentiment.POSITIVE, sentiment.NEGATIVE])\n",
    "    )\n",
    "\n",
    "print(\n",
    "    'Logistic Regression Classification',\n",
    "    f1_score(y_test, clf_log.predict(x_test_vector), average = None, \n",
    "    labels = [sentiment.POSITIVE, sentiment.NEGATIVE])\n",
    "    )\n",
    "\n",
    "\n",
    "# since Log Reg and Linear SVM models show better reults of score we use either of the models."
   ]
  },
  {
   "cell_type": "code",
   "execution_count": 30,
   "metadata": {},
   "outputs": [
    {
     "name": "stdout",
     "output_type": "stream",
     "text": [
      "['NEGATIVE']\n",
      "['NEGATIVE']\n"
     ]
    }
   ],
   "source": [
    "# Testing\n",
    "\n",
    "aneesh_test = ['not at all a good book']\n",
    "\n",
    "new_test = count_vect.transform(aneesh_test)\n",
    "\n",
    "\n",
    "print(clf_svm.predict(new_test))\n",
    "print(clf_log.predict(new_test))\n",
    "\n",
    "# The results were quite satisfactory, but the f1 score of negative sentiment seems low still.\n",
    "\n",
    "# reasons could be the number of negative words taht machine assumes could be less number\n",
    "# and machine couldnt distinguish between 'not good!'' and 'not good' and may have assumed both as two different\n",
    "# because of '!' mark."
   ]
  },
  {
   "cell_type": "code",
   "execution_count": 33,
   "metadata": {},
   "outputs": [],
   "source": [
    "##finding prediction probability values for each model\n",
    "y_pred_svm = clf_svm.decision_function(x_test_vector)\n",
    "y_pred_dt = clf_dt.predict_proba(x_test_vector)\n",
    "y_pred_knn = clf_knn.predict_proba(x_test_vector)\n",
    "y_pred_log = clf_log.decision_function(x_test_vector)"
   ]
  },
  {
   "cell_type": "code",
   "execution_count": 34,
   "metadata": {},
   "outputs": [],
   "source": [
    "##converting 'Positive' to '1' and 'Negative' to '0'\n",
    "\n",
    "from sklearn.preprocessing import LabelBinarizer\n",
    "\n",
    "lb = LabelBinarizer()\n",
    "\n",
    "b_test = lb.fit_transform(y_test)"
   ]
  },
  {
   "cell_type": "code",
   "execution_count": 37,
   "metadata": {},
   "outputs": [
    {
     "data": {
      "image/png": "[encoded data removed]",
      "text/plain": [
       "<Figure size 1000x1000 with 1 Axes>"
      ]
     },
     "metadata": {
      "needs_background": "light"
     },
     "output_type": "display_data"
    }
   ],
   "source": [
    "##plotting ROC curve for 4 models\n",
    "\n",
    "from sklearn.metrics import roc_curve, auc\n",
    "import matplotlib.pyplot as plt\n",
    "\n",
    "logistic_fpr, logistic_tpr, threshold = roc_curve(b_test,y_pred_log)\n",
    "auc_logistic = auc(logistic_fpr, logistic_tpr)\n",
    "\n",
    "svm_fpr, svm_tpr, threshold = roc_curve(b_test,y_pred_svm)\n",
    "auc_svm = auc(svm_fpr, svm_tpr)\n",
    "\n",
    "dec_fpr, dec_tpr, threshold = roc_curve(b_test,y_pred_dt[:,1])\n",
    "auc_dec = auc(dec_fpr, dec_tpr)\n",
    "\n",
    "knn_fpr, knn_tpr, threshold = roc_curve(b_test,y_pred_knn[:,1])\n",
    "auc_knn = auc(knn_fpr, knn_tpr)\n",
    "\n",
    "plt.figure(figsize=(10, 10), dpi=100)\n",
    "plt.title('ROC curve for the four fitted models with balanced data')\n",
    "plt.plot(svm_fpr, svm_tpr, linestyle='-', label='SVM (auc = %0.3f)' % auc_svm)\n",
    "plt.plot(logistic_fpr, logistic_tpr, marker='.', label='Logistic (auc = %0.3f)' % auc_logistic)\n",
    "plt.plot(knn_fpr, knn_tpr, marker='*', label='KNN (auc = %0.3f)' % auc_knn)\n",
    "plt.plot(dec_fpr, dec_tpr, marker='+', label='Decision Tree (auc = %0.3f)' % auc_dec)\n",
    "\n",
    "\n",
    "plt.xlabel('False Positive Rate -->')\n",
    "plt.ylabel('True Positive Rate -->')\n",
    "\n",
    "plt.legend()\n",
    "\n",
    "plt.show()"
   ]
  },
  {
   "cell_type": "code",
   "execution_count": null,
   "metadata": {},
   "outputs": [],
   "source": []
  }
 ],
 "metadata": {
  "kernelspec": {
   "display_name": "Python 3",
   "language": "python",
   "name": "python3"
  },
  "language_info": {
   "codemirror_mode": {
    "name": "ipython",
    "version": 3
   },
   "file_extension": ".py",
   "mimetype": "text/x-python",
   "name": "python",
   "nbconvert_exporter": "python",
   "pygments_lexer": "ipython3",
   "version": "3.7.6"
  }
 },
 "nbformat": 4,
 "nbformat_minor": 4
}
